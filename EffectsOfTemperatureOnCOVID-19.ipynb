{
 "cells": [
  {
   "cell_type": "markdown",
   "metadata": {},
   "source": [
    "# Effects of temperature on COVID-19"
   ]
  },
  {
   "cell_type": "markdown",
   "metadata": {},
   "source": [
    "# Introduction\n",
    "### About:\n",
    "This dataset includes data about the number of COVID-19 cases in different schools and municipalities in Canada, from September 2021 to December 2021. It has 10 variables, most of which could be different factors for the possible fluctuations in the number of COVID-19 cases. \n",
    "### The research question we will work towards answering:\n",
    "Does change in temperature (from September to December) affect the frequency of COVID-19 cases?\n",
    "### What variables are we looking at to answer our research question?\n",
    "Our primary explanatory variable is the `collected_date`, which we will manipulate to extract the month, as grouping this variable by month makes it easier to find the patterns and trends present. The `collected_date` variable includes data about when the sample with the SARS-Cov-2 virus was collected. As we do not have data about when the virus was caught, the closest date we have is when the virus sample was collected. \n",
    "Our response variable will be `total_confirmed_cases`, as we are interested in seeing how the number of COVID-19 cases changes as the months change. We are looking at this variable, since it includes the most substantial data, as it includes the confirmed cases of both students, staff and others at the school. \n",
    "### Describing our dataset:\n",
    "The multivariate dataset with data about COVID-19 cases in different school districts/municipalities was sourced from the Government of Canada. The 10 variables are:\n",
    "- `collected_date` : The date when the sample with the SARS-CoV-2 virus was collected\n",
    "- `reported_date` : The date when the sample with the SARS-CoV-2 virus was reported\n",
    "- `school_board` : The name of the school board\n",
    "- `school_id` : The identification number unique to the school\n",
    "- `school` : The name of the school\n",
    "- `municipality` : The name of the municipality that the school is located in\n",
    "- `confirmed_student_cases` : The number of COVID-19 cases of students\n",
    "- `confirmed_staff_cases` : The number of COVID-19 cases of staff\n",
    "- `confirmed_unspecified_cases` : The number of COVID-19 cases of others present at the school\n",
    "- `total_confirmed_cases` : The sum of all COVID-19 cases reported\n",
    "### Scientific papers used\n",
    "We will be making use of research papers that outline the correlation between the change in season and the number/severity of COVID-19 cases to aid in our research about the change in temperature affecting the frequency of COVID-19 cases. These research papers use data collected in different regions than our data, so we will generalise these findings to our own dataset. \n"
   ]
  },
  {
   "cell_type": "markdown",
   "metadata": {},
   "source": [
    "# Methods: Plan\n",
    "What methods and plots will be used to examine the question (should include one hypothesis test and one CI) Null hypothesis: There is no variation in the number of COVID-19 cases from September to December. Alternative hypothesis: There is a statistically significant change in cases from September to December.\n",
    "### What do we expect to find?\n",
    "As per previous research, it is found that the colder months of the year are the months in which the number of COVID-19 cases skyrocket, due to many secondary factors such as the variation in environmental variables and human behaviour, to name a few. We are expecting these findings to match our own results, by looking at the change frequency of COVID-19 cases from September to December. \n",
    "### What impact could such findings have?\n",
    "If we reject our null hypothesis, these findings could urge policy makers and governments to call for extra precautions during the months in which the cases skyrocket, in order to ensure a healthy and safe population. This could also lead to other studies being held about the effect of temperature on other respiratory illnesses. These findings could also be generalised and applied to any potential epidemics/pandemics later on. "
   ]
  },
  {
   "cell_type": "markdown",
   "metadata": {},
   "source": [
    "# Preliminary Results\n",
    "- Demonstrate that the dataset can be read from the web into R.\n",
    "- Clean and wrangle your data into a tidy format.\n",
    "- Plot the relevant raw data, tailoring your plot in a way that addresses your question.\n",
    "- Compute estimates of the parameter you identified across your groups. Present this in a table. If relevant, include these estimates in your plot.\n"
   ]
  },
  {
   "cell_type": "markdown",
   "metadata": {},
   "source": [
    "## Hypothesis:\n",
    "- H0: mean_sep = mean_oct = mean_nov = mean_dec\n",
    "- HA: mean_sep < mean_oct < mean_nov < mean_dec"
   ]
  },
  {
   "cell_type": "code",
   "execution_count": 1,
   "metadata": {
    "vscode": {
     "languageId": "r"
    }
   },
   "outputs": [
    {
     "name": "stderr",
     "output_type": "stream",
     "text": [
      "── \u001b[1mAttaching packages\u001b[22m ─────────────────────────────────────── tidyverse 1.3.2 ──\n",
      "\u001b[32m✔\u001b[39m \u001b[34mggplot2\u001b[39m 3.3.6      \u001b[32m✔\u001b[39m \u001b[34mpurrr  \u001b[39m 0.3.4 \n",
      "\u001b[32m✔\u001b[39m \u001b[34mtibble \u001b[39m 3.1.8      \u001b[32m✔\u001b[39m \u001b[34mdplyr  \u001b[39m 1.0.10\n",
      "\u001b[32m✔\u001b[39m \u001b[34mtidyr  \u001b[39m 1.2.1      \u001b[32m✔\u001b[39m \u001b[34mstringr\u001b[39m 1.4.1 \n",
      "\u001b[32m✔\u001b[39m \u001b[34mreadr  \u001b[39m 2.1.2      \u001b[32m✔\u001b[39m \u001b[34mforcats\u001b[39m 0.5.2 \n",
      "── \u001b[1mConflicts\u001b[22m ────────────────────────────────────────── tidyverse_conflicts() ──\n",
      "\u001b[31m✖\u001b[39m \u001b[34mdplyr\u001b[39m::\u001b[32mfilter()\u001b[39m masks \u001b[34mstats\u001b[39m::filter()\n",
      "\u001b[31m✖\u001b[39m \u001b[34mdplyr\u001b[39m::\u001b[32mlag()\u001b[39m    masks \u001b[34mstats\u001b[39m::lag()\n",
      "\n",
      "Attaching package: ‘gridExtra’\n",
      "\n",
      "\n",
      "The following object is masked from ‘package:dplyr’:\n",
      "\n",
      "    combine\n",
      "\n",
      "\n",
      "\n",
      "Attaching package: ‘RCurl’\n",
      "\n",
      "\n",
      "The following object is masked from ‘package:tidyr’:\n",
      "\n",
      "    complete\n",
      "\n",
      "\n"
     ]
    }
   ],
   "source": [
    "#Loads all the necessary packages for the project. Run this cell before continuing.\n",
    "library(tidyverse)\n",
    "library(datateachr)\n",
    "library(repr)\n",
    "library(digest)\n",
    "library(infer)\n",
    "library(grid)\n",
    "library(gridExtra)\n",
    "library(broom)\n",
    "library(RCurl)\n",
    "options(jupyter.plot_mimetypes = \"image/png\")\n",
    "set.seed(13)"
   ]
  },
  {
   "cell_type": "markdown",
   "metadata": {},
   "source": [
    "Before even touching R, we had to start by getting the data onto our local repositories. Our data set was added to GitHub. Having created a remote repository, and adding all our group members as collaborators, we were ready to finally move work to and from GitHub to our local repositories; this would be JupyterHub in our case.\n",
    "All libraries used came from worksheets and the textbook. We started by using the read_csv function to read our data into JupyterHub from Google Drive. \n"
   ]
  },
  {
   "cell_type": "code",
   "execution_count": 2,
   "metadata": {
    "vscode": {
     "languageId": "r"
    }
   },
   "outputs": [
    {
     "data": {
      "text/html": [
       "<table class=\"dataframe\">\n",
       "<caption>A data.frame: 6 × 10</caption>\n",
       "<thead>\n",
       "\t<tr><th></th><th scope=col>collected_date</th><th scope=col>reported_date</th><th scope=col>school_board</th><th scope=col>school_id</th><th scope=col>school</th><th scope=col>municipality</th><th scope=col>confirmed_student_cases</th><th scope=col>confirmed_staff_cases</th><th scope=col>confirmed_unspecified_cases</th><th scope=col>total_confirmed_cases</th></tr>\n",
       "\t<tr><th></th><th scope=col>&lt;chr&gt;</th><th scope=col>&lt;chr&gt;</th><th scope=col>&lt;chr&gt;</th><th scope=col>&lt;chr&gt;</th><th scope=col>&lt;chr&gt;</th><th scope=col>&lt;chr&gt;</th><th scope=col>&lt;int&gt;</th><th scope=col>&lt;int&gt;</th><th scope=col>&lt;int&gt;</th><th scope=col>&lt;int&gt;</th></tr>\n",
       "</thead>\n",
       "<tbody>\n",
       "\t<tr><th scope=row>1</th><td>2021-09-13</td><td>2021-09-14</td><td>Avon Maitland District School Board              </td><td>507725</td><td>Shakespeare Public School            </td><td>Stratford       </td><td>2</td><td>0</td><td>0</td><td>2</td></tr>\n",
       "\t<tr><th scope=row>2</th><td>2021-09-13</td><td>2021-09-14</td><td>Bruce-Grey Catholic District School Board        </td><td>732800</td><td>St Teresa of Calcutta Catholic School</td><td>Brockton        </td><td>1</td><td>0</td><td>0</td><td>1</td></tr>\n",
       "\t<tr><th scope=row>3</th><td>2021-09-13</td><td>2021-09-14</td><td>Catholic District School Board of Eastern Ontario</td><td>691127</td><td>J L Jordan Separate School           </td><td>Brockville      </td><td>0</td><td>1</td><td>0</td><td>1</td></tr>\n",
       "\t<tr><th scope=row>4</th><td>2021-09-13</td><td>2021-09-14</td><td>Catholic District School Board of Eastern Ontario</td><td>758787</td><td>Sacred Heart of Jesus Separate School</td><td>Lanark Highlands</td><td>0</td><td>1</td><td>0</td><td>1</td></tr>\n",
       "\t<tr><th scope=row>5</th><td>2021-09-13</td><td>2021-09-14</td><td>Catholic District School Board of Eastern Ontario</td><td>769312</td><td>St Andrew's Separate School          </td><td>South Stormont  </td><td>2</td><td>0</td><td>0</td><td>2</td></tr>\n",
       "\t<tr><th scope=row>6</th><td>2021-09-13</td><td>2021-09-14</td><td>Catholic District School Board of Eastern Ontario</td><td>814555</td><td>St. Mark Catholic School             </td><td>Prescott        </td><td>1</td><td>0</td><td>0</td><td>1</td></tr>\n",
       "</tbody>\n",
       "</table>\n"
      ],
      "text/latex": [
       "A data.frame: 6 × 10\n",
       "\\begin{tabular}{r|llllllllll}\n",
       "  & collected\\_date & reported\\_date & school\\_board & school\\_id & school & municipality & confirmed\\_student\\_cases & confirmed\\_staff\\_cases & confirmed\\_unspecified\\_cases & total\\_confirmed\\_cases\\\\\n",
       "  & <chr> & <chr> & <chr> & <chr> & <chr> & <chr> & <int> & <int> & <int> & <int>\\\\\n",
       "\\hline\n",
       "\t1 & 2021-09-13 & 2021-09-14 & Avon Maitland District School Board               & 507725 & Shakespeare Public School             & Stratford        & 2 & 0 & 0 & 2\\\\\n",
       "\t2 & 2021-09-13 & 2021-09-14 & Bruce-Grey Catholic District School Board         & 732800 & St Teresa of Calcutta Catholic School & Brockton         & 1 & 0 & 0 & 1\\\\\n",
       "\t3 & 2021-09-13 & 2021-09-14 & Catholic District School Board of Eastern Ontario & 691127 & J L Jordan Separate School            & Brockville       & 0 & 1 & 0 & 1\\\\\n",
       "\t4 & 2021-09-13 & 2021-09-14 & Catholic District School Board of Eastern Ontario & 758787 & Sacred Heart of Jesus Separate School & Lanark Highlands & 0 & 1 & 0 & 1\\\\\n",
       "\t5 & 2021-09-13 & 2021-09-14 & Catholic District School Board of Eastern Ontario & 769312 & St Andrew's Separate School           & South Stormont   & 2 & 0 & 0 & 2\\\\\n",
       "\t6 & 2021-09-13 & 2021-09-14 & Catholic District School Board of Eastern Ontario & 814555 & St. Mark Catholic School              & Prescott         & 1 & 0 & 0 & 1\\\\\n",
       "\\end{tabular}\n"
      ],
      "text/markdown": [
       "\n",
       "A data.frame: 6 × 10\n",
       "\n",
       "| <!--/--> | collected_date &lt;chr&gt; | reported_date &lt;chr&gt; | school_board &lt;chr&gt; | school_id &lt;chr&gt; | school &lt;chr&gt; | municipality &lt;chr&gt; | confirmed_student_cases &lt;int&gt; | confirmed_staff_cases &lt;int&gt; | confirmed_unspecified_cases &lt;int&gt; | total_confirmed_cases &lt;int&gt; |\n",
       "|---|---|---|---|---|---|---|---|---|---|---|\n",
       "| 1 | 2021-09-13 | 2021-09-14 | Avon Maitland District School Board               | 507725 | Shakespeare Public School             | Stratford        | 2 | 0 | 0 | 2 |\n",
       "| 2 | 2021-09-13 | 2021-09-14 | Bruce-Grey Catholic District School Board         | 732800 | St Teresa of Calcutta Catholic School | Brockton         | 1 | 0 | 0 | 1 |\n",
       "| 3 | 2021-09-13 | 2021-09-14 | Catholic District School Board of Eastern Ontario | 691127 | J L Jordan Separate School            | Brockville       | 0 | 1 | 0 | 1 |\n",
       "| 4 | 2021-09-13 | 2021-09-14 | Catholic District School Board of Eastern Ontario | 758787 | Sacred Heart of Jesus Separate School | Lanark Highlands | 0 | 1 | 0 | 1 |\n",
       "| 5 | 2021-09-13 | 2021-09-14 | Catholic District School Board of Eastern Ontario | 769312 | St Andrew's Separate School           | South Stormont   | 2 | 0 | 0 | 2 |\n",
       "| 6 | 2021-09-13 | 2021-09-14 | Catholic District School Board of Eastern Ontario | 814555 | St. Mark Catholic School              | Prescott         | 1 | 0 | 0 | 1 |\n",
       "\n"
      ],
      "text/plain": [
       "  collected_date reported_date\n",
       "1 2021-09-13     2021-09-14   \n",
       "2 2021-09-13     2021-09-14   \n",
       "3 2021-09-13     2021-09-14   \n",
       "4 2021-09-13     2021-09-14   \n",
       "5 2021-09-13     2021-09-14   \n",
       "6 2021-09-13     2021-09-14   \n",
       "  school_board                                      school_id\n",
       "1 Avon Maitland District School Board               507725   \n",
       "2 Bruce-Grey Catholic District School Board         732800   \n",
       "3 Catholic District School Board of Eastern Ontario 691127   \n",
       "4 Catholic District School Board of Eastern Ontario 758787   \n",
       "5 Catholic District School Board of Eastern Ontario 769312   \n",
       "6 Catholic District School Board of Eastern Ontario 814555   \n",
       "  school                                municipality    \n",
       "1 Shakespeare Public School             Stratford       \n",
       "2 St Teresa of Calcutta Catholic School Brockton        \n",
       "3 J L Jordan Separate School            Brockville      \n",
       "4 Sacred Heart of Jesus Separate School Lanark Highlands\n",
       "5 St Andrew's Separate School           South Stormont  \n",
       "6 St. Mark Catholic School              Prescott        \n",
       "  confirmed_student_cases confirmed_staff_cases confirmed_unspecified_cases\n",
       "1 2                       0                     0                          \n",
       "2 1                       0                     0                          \n",
       "3 0                       1                     0                          \n",
       "4 0                       1                     0                          \n",
       "5 2                       0                     0                          \n",
       "6 1                       0                     0                          \n",
       "  total_confirmed_cases\n",
       "1 2                    \n",
       "2 1                    \n",
       "3 1                    \n",
       "4 1                    \n",
       "5 2                    \n",
       "6 1                    "
      ]
     },
     "metadata": {},
     "output_type": "display_data"
    }
   ],
   "source": [
    "#Reads the raw data from the given url\n",
    "x <- getURL(\"https://raw.githubusercontent.com/Thespee/STAT201/master/schoolrecentcovid2021_2022.csv\")\n",
    "data <- read.csv(text = x)\n",
    "\n",
    "head(data)"
   ]
  },
  {
   "cell_type": "markdown",
   "metadata": {},
   "source": [
    "The irrelevant columns were removed like the school id, name etc. were removed as they did not affect the average number of cases observed in different months. We also converted the “collected_date” column to only contain the month in which the sample was collected using the mutate, as.Date, format functions.\n",
    "Following data wrangling/cleaning, we were left with a data set with 2 columns and 50299 rows. The columns are- month and total_confirmed_cases. \n",
    "\n",
    "We next performed a preliminary analysis looking at the distribution of case numbers by month, finding that December had the highest average number of cases and a wider spread than the other months. "
   ]
  },
  {
   "cell_type": "code",
   "execution_count": 3,
   "metadata": {
    "vscode": {
     "languageId": "r"
    }
   },
   "outputs": [
    {
     "data": {
      "text/html": [
       "<table class=\"dataframe\">\n",
       "<caption>A data.frame: 6 × 2</caption>\n",
       "<thead>\n",
       "\t<tr><th></th><th scope=col>month</th><th scope=col>total_confirmed_cases</th></tr>\n",
       "\t<tr><th></th><th scope=col>&lt;chr&gt;</th><th scope=col>&lt;int&gt;</th></tr>\n",
       "</thead>\n",
       "<tbody>\n",
       "\t<tr><th scope=row>1</th><td>09</td><td>2</td></tr>\n",
       "\t<tr><th scope=row>2</th><td>09</td><td>1</td></tr>\n",
       "\t<tr><th scope=row>3</th><td>09</td><td>1</td></tr>\n",
       "\t<tr><th scope=row>4</th><td>09</td><td>1</td></tr>\n",
       "\t<tr><th scope=row>5</th><td>09</td><td>2</td></tr>\n",
       "\t<tr><th scope=row>6</th><td>09</td><td>1</td></tr>\n",
       "</tbody>\n",
       "</table>\n"
      ],
      "text/latex": [
       "A data.frame: 6 × 2\n",
       "\\begin{tabular}{r|ll}\n",
       "  & month & total\\_confirmed\\_cases\\\\\n",
       "  & <chr> & <int>\\\\\n",
       "\\hline\n",
       "\t1 & 09 & 2\\\\\n",
       "\t2 & 09 & 1\\\\\n",
       "\t3 & 09 & 1\\\\\n",
       "\t4 & 09 & 1\\\\\n",
       "\t5 & 09 & 2\\\\\n",
       "\t6 & 09 & 1\\\\\n",
       "\\end{tabular}\n"
      ],
      "text/markdown": [
       "\n",
       "A data.frame: 6 × 2\n",
       "\n",
       "| <!--/--> | month &lt;chr&gt; | total_confirmed_cases &lt;int&gt; |\n",
       "|---|---|---|\n",
       "| 1 | 09 | 2 |\n",
       "| 2 | 09 | 1 |\n",
       "| 3 | 09 | 1 |\n",
       "| 4 | 09 | 1 |\n",
       "| 5 | 09 | 2 |\n",
       "| 6 | 09 | 1 |\n",
       "\n"
      ],
      "text/plain": [
       "  month total_confirmed_cases\n",
       "1 09    2                    \n",
       "2 09    1                    \n",
       "3 09    1                    \n",
       "4 09    1                    \n",
       "5 09    2                    \n",
       "6 09    1                    "
      ]
     },
     "metadata": {},
     "output_type": "display_data"
    }
   ],
   "source": [
    "# Tidying the data \n",
    "case_data <- data %>%\n",
    "    mutate(date = as.Date(collected_date, format = \"%Y-%m-%d\")) %>%\n",
    "    mutate(month = format(date, \"%m\")) %>% \n",
    "    select(month,total_confirmed_cases)\n",
    "head(case_data)"
   ]
  },
  {
   "cell_type": "code",
   "execution_count": 4,
   "metadata": {
    "vscode": {
     "languageId": "r"
    }
   },
   "outputs": [],
   "source": [
    "#unique(data$municipality)\n",
    "\n",
    "#Side note, it would be interesting to examine how the latitude compares to the case levels, as generally, the higher the latitude the higher the case values are. "
   ]
  },
  {
   "cell_type": "code",
   "execution_count": 5,
   "metadata": {
    "vscode": {
     "languageId": "r"
    }
   },
   "outputs": [
    {
     "data": {
      "text/html": [
       "<table class=\"dataframe\">\n",
       "<caption>A tibble: 4 × 2</caption>\n",
       "<thead>\n",
       "\t<tr><th scope=col>month</th><th scope=col>mean</th></tr>\n",
       "\t<tr><th scope=col>&lt;chr&gt;</th><th scope=col>&lt;dbl&gt;</th></tr>\n",
       "</thead>\n",
       "<tbody>\n",
       "\t<tr><td>09</td><td>1.808039</td></tr>\n",
       "\t<tr><td>10</td><td>1.950415</td></tr>\n",
       "\t<tr><td>11</td><td>2.065245</td></tr>\n",
       "\t<tr><td>12</td><td>2.393249</td></tr>\n",
       "</tbody>\n",
       "</table>\n"
      ],
      "text/latex": [
       "A tibble: 4 × 2\n",
       "\\begin{tabular}{ll}\n",
       " month & mean\\\\\n",
       " <chr> & <dbl>\\\\\n",
       "\\hline\n",
       "\t 09 & 1.808039\\\\\n",
       "\t 10 & 1.950415\\\\\n",
       "\t 11 & 2.065245\\\\\n",
       "\t 12 & 2.393249\\\\\n",
       "\\end{tabular}\n"
      ],
      "text/markdown": [
       "\n",
       "A tibble: 4 × 2\n",
       "\n",
       "| month &lt;chr&gt; | mean &lt;dbl&gt; |\n",
       "|---|---|\n",
       "| 09 | 1.808039 |\n",
       "| 10 | 1.950415 |\n",
       "| 11 | 2.065245 |\n",
       "| 12 | 2.393249 |\n",
       "\n"
      ],
      "text/plain": [
       "  month mean    \n",
       "1 09    1.808039\n",
       "2 10    1.950415\n",
       "3 11    2.065245\n",
       "4 12    2.393249"
      ]
     },
     "metadata": {},
     "output_type": "display_data"
    }
   ],
   "source": [
    "# Average number of cases in each month\n",
    "case_by_month <- case_data %>% \n",
    "    group_by(month) %>%\n",
    "    summarize(mean = mean(total_confirmed_cases))\n",
    "case_by_month"
   ]
  },
  {
   "cell_type": "code",
   "execution_count": 6,
   "metadata": {
    "vscode": {
     "languageId": "r"
    }
   },
   "outputs": [
    {
     "data": {
      "image/png": "[encoded data removed]"
     },
     "metadata": {
      "image/png": {
       "height": 420,
       "width": 420
      }
     },
     "output_type": "display_data"
    }
   ],
   "source": [
    "#visualizing the data\n",
    "case_dist <- case_data %>%\n",
    "    ggplot(aes(x = total_confirmed_cases, colour = month)) +\n",
    "    geom_histogram(binwidth = 2.5) +\n",
    "    xlab(\"Number of cases\") +\n",
    "    ggtitle(\"Distrubution of case occurances\")\n",
    "case_dist"
   ]
  },
  {
   "cell_type": "code",
   "execution_count": 7,
   "metadata": {
    "vscode": {
     "languageId": "r"
    }
   },
   "outputs": [
    {
     "data": {
      "image/png": "[encoded data removed]"
     },
     "metadata": {
      "image/png": {
       "height": 420,
       "width": 420
      }
     },
     "output_type": "display_data"
    },
    {
     "data": {
      "image/png": "[encoded data removed]"
     },
     "metadata": {
      "image/png": {
       "height": 420,
       "width": 420
      }
     },
     "output_type": "display_data"
    }
   ],
   "source": [
    "#visualizing the data\n",
    "case_dist <- case_data %>%\n",
    "    ggplot(aes(x = month, y = total_confirmed_cases)) +\n",
    "    geom_bar(stat = \"identity\", colour = \"dark grey\") +\n",
    "    xlab(\"Month\") +\n",
    "    ylab(\"Number of cases\") +\n",
    "    ggtitle(\"Distrubution of case occurances\")\n",
    "case_dist\n",
    "\n",
    "case_boxplot <- case_data %>%\n",
    "    ggplot(aes(x = total_confirmed_cases, y = month)) +\n",
    "    geom_boxplot() +\n",
    "    xlab(\"Number of cases\") +\n",
    "    ggtitle(\"Distrubution of case occurances\")\n",
    "case_boxplot"
   ]
  },
  {
   "cell_type": "markdown",
   "metadata": {},
   "source": [
    "## Observations\n",
    "\n",
    "Visulization of the data led to the following observation-:\n",
    "\n",
    "- The mean by month does go up as the months get colder \n",
    "- The coloured graph shows that December has all the high case levels (25+)\n",
    "- Most schools still had one or two cases even in the colder months\n",
    "- Interestingly, October has more extreme case levels, but November still has a higher average number of cases.\n",
    "\n"
   ]
  },
  {
   "cell_type": "markdown",
   "metadata": {},
   "source": [
    "We next began testing our hypothesis with a two-way ANOVA analysis. ANOVA is the appropriate method because we are interested in comparing means across several categorical variables. We got an f-stat of 175 and the ANOVA p-val was smaller than one googlith. (10^-100). The magnitude of the f stat and p value indicates that the means are significantly different at the 0.01 significance level. We then moved on to looking over at two months directly. September and December are the obvious first choices, which yielded an f-stat of 355 and a p-val ~ 10^-78. This also demonstrates a significant difference in the means at the 0.01 significance level. "
   ]
  },
  {
   "cell_type": "code",
   "execution_count": 8,
   "metadata": {
    "vscode": {
     "languageId": "r"
    }
   },
   "outputs": [
    {
     "data": {
      "text/html": [
       "<table class=\"dataframe\">\n",
       "<caption>A tibble: 2 × 6</caption>\n",
       "<thead>\n",
       "\t<tr><th scope=col>term</th><th scope=col>df</th><th scope=col>sumsq</th><th scope=col>meansq</th><th scope=col>statistic</th><th scope=col>p.value</th></tr>\n",
       "\t<tr><th scope=col>&lt;chr&gt;</th><th scope=col>&lt;dbl&gt;</th><th scope=col>&lt;dbl&gt;</th><th scope=col>&lt;dbl&gt;</th><th scope=col>&lt;dbl&gt;</th><th scope=col>&lt;dbl&gt;</th></tr>\n",
       "</thead>\n",
       "<tbody>\n",
       "\t<tr><td>month    </td><td>    3</td><td>  2416.632</td><td>805.543962</td><td>175.1758</td><td>5.445949e-113</td></tr>\n",
       "\t<tr><td>Residuals</td><td>50295</td><td>231281.018</td><td>  4.598489</td><td>      NA</td><td>           NA</td></tr>\n",
       "</tbody>\n",
       "</table>\n"
      ],
      "text/latex": [
       "A tibble: 2 × 6\n",
       "\\begin{tabular}{llllll}\n",
       " term & df & sumsq & meansq & statistic & p.value\\\\\n",
       " <chr> & <dbl> & <dbl> & <dbl> & <dbl> & <dbl>\\\\\n",
       "\\hline\n",
       "\t month     &     3 &   2416.632 & 805.543962 & 175.1758 & 5.445949e-113\\\\\n",
       "\t Residuals & 50295 & 231281.018 &   4.598489 &       NA &            NA\\\\\n",
       "\\end{tabular}\n"
      ],
      "text/markdown": [
       "\n",
       "A tibble: 2 × 6\n",
       "\n",
       "| term &lt;chr&gt; | df &lt;dbl&gt; | sumsq &lt;dbl&gt; | meansq &lt;dbl&gt; | statistic &lt;dbl&gt; | p.value &lt;dbl&gt; |\n",
       "|---|---|---|---|---|---|\n",
       "| month     |     3 |   2416.632 | 805.543962 | 175.1758 | 5.445949e-113 |\n",
       "| Residuals | 50295 | 231281.018 |   4.598489 |       NA |            NA |\n",
       "\n"
      ],
      "text/plain": [
       "  term      df    sumsq      meansq     statistic p.value      \n",
       "1 month         3   2416.632 805.543962 175.1758  5.445949e-113\n",
       "2 Residuals 50295 231281.018   4.598489       NA             NA"
      ]
     },
     "metadata": {},
     "output_type": "display_data"
    },
    {
     "data": {
      "text/html": [
       "175.17578340422"
      ],
      "text/latex": [
       "175.17578340422"
      ],
      "text/markdown": [
       "175.17578340422"
      ],
      "text/plain": [
       "[1] 175.1758"
      ]
     },
     "metadata": {},
     "output_type": "display_data"
    },
    {
     "data": {
      "text/html": [
       "5.445949461244e-113"
      ],
      "text/latex": [
       "5.445949461244e-113"
      ],
      "text/markdown": [
       "5.445949461244e-113"
      ],
      "text/plain": [
       "[1] 5.445949e-113"
      ]
     },
     "metadata": {},
     "output_type": "display_data"
    }
   ],
   "source": [
    "#Testing the hypothesis\n",
    "anova_results <- \n",
    "    aov(total_confirmed_cases ~ month, data = case_data) %>% \n",
    "    tidy()\n",
    "\n",
    "# ANOVA F-test statistic\n",
    "f_stat <- anova_results%>%\n",
    "            filter(term==\"month\")%>%\n",
    "            pull(statistic)\n",
    "\n",
    "#p-value\n",
    "anova_pval <- anova_results%>%\n",
    "            filter(term==\"month\")%>%\n",
    "            pull(p.value)\n",
    "\n",
    "anova_results\n",
    "f_stat\n",
    "anova_pval"
   ]
  },
  {
   "cell_type": "code",
   "execution_count": 9,
   "metadata": {
    "vscode": {
     "languageId": "r"
    }
   },
   "outputs": [
    {
     "data": {
      "text/html": [
       "1.0865537891017e-78"
      ],
      "text/latex": [
       "1.0865537891017e-78"
      ],
      "text/markdown": [
       "1.0865537891017e-78"
      ],
      "text/plain": [
       "[1] 1.086554e-78"
      ]
     },
     "metadata": {},
     "output_type": "display_data"
    },
    {
     "data": {
      "text/html": [
       "<table class=\"dataframe\">\n",
       "<caption>A tibble: 2 × 6</caption>\n",
       "<thead>\n",
       "\t<tr><th scope=col>term</th><th scope=col>df</th><th scope=col>sumsq</th><th scope=col>meansq</th><th scope=col>statistic</th><th scope=col>p.value</th></tr>\n",
       "\t<tr><th scope=col>&lt;chr&gt;</th><th scope=col>&lt;dbl&gt;</th><th scope=col>&lt;dbl&gt;</th><th scope=col>&lt;dbl&gt;</th><th scope=col>&lt;dbl&gt;</th><th scope=col>&lt;dbl&gt;</th></tr>\n",
       "</thead>\n",
       "<tbody>\n",
       "\t<tr><td>month    </td><td>    1</td><td>  1899.735</td><td>1899.734817</td><td>355.2584</td><td>1.086554e-78</td></tr>\n",
       "\t<tr><td>Residuals</td><td>24638</td><td>131751.036</td><td>   5.347473</td><td>      NA</td><td>          NA</td></tr>\n",
       "</tbody>\n",
       "</table>\n"
      ],
      "text/latex": [
       "A tibble: 2 × 6\n",
       "\\begin{tabular}{llllll}\n",
       " term & df & sumsq & meansq & statistic & p.value\\\\\n",
       " <chr> & <dbl> & <dbl> & <dbl> & <dbl> & <dbl>\\\\\n",
       "\\hline\n",
       "\t month     &     1 &   1899.735 & 1899.734817 & 355.2584 & 1.086554e-78\\\\\n",
       "\t Residuals & 24638 & 131751.036 &    5.347473 &       NA &           NA\\\\\n",
       "\\end{tabular}\n"
      ],
      "text/markdown": [
       "\n",
       "A tibble: 2 × 6\n",
       "\n",
       "| term &lt;chr&gt; | df &lt;dbl&gt; | sumsq &lt;dbl&gt; | meansq &lt;dbl&gt; | statistic &lt;dbl&gt; | p.value &lt;dbl&gt; |\n",
       "|---|---|---|---|---|---|\n",
       "| month     |     1 |   1899.735 | 1899.734817 | 355.2584 | 1.086554e-78 |\n",
       "| Residuals | 24638 | 131751.036 |    5.347473 |       NA |           NA |\n",
       "\n"
      ],
      "text/plain": [
       "  term      df    sumsq      meansq      statistic p.value     \n",
       "1 month         1   1899.735 1899.734817 355.2584  1.086554e-78\n",
       "2 Residuals 24638 131751.036    5.347473       NA            NA"
      ]
     },
     "metadata": {},
     "output_type": "display_data"
    }
   ],
   "source": [
    "#Data for the months of September and December\n",
    "case_for_Sep_Dec <- case_data %>% \n",
    "                    filter(month %in% c(\"09\",\"12\"))\n",
    "\n",
    "\n",
    "#Testing the hypothesis for September and December\n",
    "anova_for_two <- aov(total_confirmed_cases ~ month, data = case_for_Sep_Dec ) %>% \n",
    "    tidy()\n",
    "\n",
    "\n",
    "#p-value\n",
    "anova_pval_for_two <- anova_for_two%>%\n",
    "            filter(term==\"month\")%>%\n",
    "            pull(p.value)\n",
    "\n",
    "anova_pval_for_two\n",
    "anova_for_two"
   ]
  },
  {
   "cell_type": "markdown",
   "metadata": {},
   "source": [
    "We next created a ci for the difference in means between December of September. The 90% ci for the difference in means is (0.54 and 0.63). This means that we can be 90% confident the the true difference in mean case numbers between December and September is (0.54 and 0.63). We could not use a larger number of reps than 200 because the kernal would run out of memory. "
   ]
  },
  {
   "cell_type": "code",
   "execution_count": 10,
   "metadata": {
    "vscode": {
     "languageId": "r"
    }
   },
   "outputs": [
    {
     "data": {
      "text/html": [
       "0.585210523591051"
      ],
      "text/latex": [
       "0.585210523591051"
      ],
      "text/markdown": [
       "0.585210523591051"
      ],
      "text/plain": [
       "[1] 0.5852105"
      ]
     },
     "metadata": {},
     "output_type": "display_data"
    }
   ],
   "source": [
    "point_estimates = case_by_month %>%\n",
    "    pull(mean)\n",
    "dec_sep_est <- point_estimates[4] - point_estimates[1]\n",
    "#point_estimate\n",
    "dec_sep_est"
   ]
  },
  {
   "cell_type": "code",
   "execution_count": 11,
   "metadata": {
    "vscode": {
     "languageId": "r"
    }
   },
   "outputs": [],
   "source": [
    "# Bootstrap for the difference in means for sep to dec \n",
    "\n",
    "bootstrapped <- case_for_Sep_Dec %>%\n",
    "    specify(total_confirmed_cases ~ month) %>%\n",
    "    hypothesize(null = \"independence\") %>%\n",
    "    generate(reps = 200, type = \"bootstrap\") %>%\n",
    "    calculate(stat = \"diff in means\", order = c(\"09\", \"12\"))\n",
    " ci2 <- bootstrapped %>% get_ci(level = 0.9, type = \"se\", point_estimate = dec_sep_est)"
   ]
  },
  {
   "cell_type": "code",
   "execution_count": 12,
   "metadata": {
    "vscode": {
     "languageId": "r"
    }
   },
   "outputs": [
    {
     "data": {
      "text/html": [
       "<table class=\"dataframe\">\n",
       "<caption>A tibble: 1 × 2</caption>\n",
       "<thead>\n",
       "\t<tr><th scope=col>lower_ci</th><th scope=col>upper_ci</th></tr>\n",
       "\t<tr><th scope=col>&lt;dbl&gt;</th><th scope=col>&lt;dbl&gt;</th></tr>\n",
       "</thead>\n",
       "<tbody>\n",
       "\t<tr><td>0.5429597</td><td>0.6274613</td></tr>\n",
       "</tbody>\n",
       "</table>\n"
      ],
      "text/latex": [
       "A tibble: 1 × 2\n",
       "\\begin{tabular}{ll}\n",
       " lower\\_ci & upper\\_ci\\\\\n",
       " <dbl> & <dbl>\\\\\n",
       "\\hline\n",
       "\t 0.5429597 & 0.6274613\\\\\n",
       "\\end{tabular}\n"
      ],
      "text/markdown": [
       "\n",
       "A tibble: 1 × 2\n",
       "\n",
       "| lower_ci &lt;dbl&gt; | upper_ci &lt;dbl&gt; |\n",
       "|---|---|\n",
       "| 0.5429597 | 0.6274613 |\n",
       "\n"
      ],
      "text/plain": [
       "  lower_ci  upper_ci \n",
       "1 0.5429597 0.6274613"
      ]
     },
     "metadata": {},
     "output_type": "display_data"
    }
   ],
   "source": [
    "ci2"
   ]
  },
  {
   "cell_type": "markdown",
   "metadata": {},
   "source": [
    "### Is bootstrapping or asymptotics more appropriate for our project?\n",
    "We believe that bootstrapping is the more appropriate testing method for our project. This is because asymptotics involve the assumption that a sample size can grow infinitely, but the Earth doesn’t have an infinite number of people for COVID-19 to infect. On the other hand, bootstrapping only requires some tens or hundreds of cases to continually resample.\n"
   ]
  },
  {
   "cell_type": "markdown",
   "metadata": {},
   "source": [
    "# Discussion\n",
    "\n",
    "### What did we find?\n",
    "\n",
    "By looking at our p-value, we can reject our null hypothesis. We have shown that there is an increase in COVID-19 cases as the temperature across the months decreases. This will hopefully encourage higher precaution during the winter months. \n",
    "\n",
    "### What are some possible sources of error?\n",
    "\n",
    "Our hypothesis testing has shown that there is an increase in COVID-19 cases from September to December, but it fails to show the actual cause of this.\n",
    "There is definitely a correlation, however, we must consider that the actual cause of this could be something completely unrelated to the temperature. \n",
    "The sources we have chosen have attributed the increase in disease to a temperature change, but we cannot be fully sure of it with regards to our chosen dataset. \n",
    "\n",
    "### What future questions could this lead to?\n",
    "This could lead to further research about other respiratory illnesses, or even other airborne illnesses/diseases. Additionally, the results of this study could also raise questions about the change in temperature in the rest of the seasons of the year (increase in temperature). "
   ]
  },
  {
   "cell_type": "markdown",
   "metadata": {},
   "source": [
    "# References\n",
    "- https://www.ncbi.nlm.nih.gov/pmc/articles/PMC7892320/\n",
    "- https://bmcinfectdis.biomedcentral.com/articles/10.1186/s12879-021-06785-2\n",
    "- https://www.annualreviews.org/doi/10.1146/annurev-virology-012420-022445\n",
    "## Resources\n",
    "- https://simplemaps.com/data/canada-cities."
   ]
  },
  {
   "cell_type": "markdown",
   "metadata": {},
   "source": [
    "##### Thanks to my three team members for their contributions to this project!"
   ]
  },
  {
   "cell_type": "markdown",
   "metadata": {},
   "source": []
  }
 ],
 "metadata": {
  "kernelspec": {
   "display_name": "R",
   "language": "R",
   "name": "ir"
  },
  "language_info": {
   "codemirror_mode": "r",
   "file_extension": ".r",
   "mimetype": "text/x-r-source",
   "name": "R",
   "pygments_lexer": "r",
   "version": "4.1.3"
  },
  "vscode": {
   "interpreter": {
    "hash": "c503f7b6122df8cbc81f5667b123e696eb32a3f77d1c35a3c806a7b712f534c1"
   }
  }
 },
 "nbformat": 4,
 "nbformat_minor": 4
}
